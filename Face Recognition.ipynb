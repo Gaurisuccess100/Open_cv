{
 "cells": [
  {
   "cell_type": "code",
   "execution_count": 1,
   "id": "b846f4ff-198c-4096-a1bc-d3d9156211ff",
   "metadata": {},
   "outputs": [],
   "source": [
    "import cv2"
   ]
  },
  {
   "cell_type": "code",
   "execution_count": 2,
   "id": "9997c726-d31d-4862-83d3-5b5cf50db361",
   "metadata": {},
   "outputs": [
    {
     "name": "stdout",
     "output_type": "stream",
     "text": [
      "True\n"
     ]
    }
   ],
   "source": [
    "print(\"face\" in dir(cv2))  # Should return True if contrib is installed\n"
   ]
  },
  {
   "cell_type": "code",
   "execution_count": 3,
   "id": "3fb1f3c4-18e8-477d-843f-852e7e96b470",
   "metadata": {},
   "outputs": [],
   "source": [
    "import numpy as np"
   ]
  },
  {
   "cell_type": "code",
   "execution_count": 4,
   "id": "15545fc2-d4ae-4d67-b55e-89ce4c35687f",
   "metadata": {},
   "outputs": [],
   "source": [
    "import os"
   ]
  },
  {
   "cell_type": "code",
   "execution_count": 5,
   "id": "83bd89fe-381d-483c-b014-a4a637694808",
   "metadata": {},
   "outputs": [],
   "source": [
    "from PIL import Image"
   ]
  },
  {
   "cell_type": "code",
   "execution_count": 6,
   "id": "ce760867-4750-4ede-8078-d01f477e48b6",
   "metadata": {},
   "outputs": [
    {
     "name": "stdout",
     "output_type": "stream",
     "text": [
      "Requirement already satisfied: opencv-contrib-python in c:\\users\\krishna prajapati\\appdata\\roaming\\python\\python313\\site-packages (4.12.0.88)\n",
      "Requirement already satisfied: numpy<2.3.0,>=2 in d:\\programs files\\lib\\site-packages (from opencv-contrib-python) (2.2.6)\n",
      "Note: you may need to restart the kernel to use updated packages.\n"
     ]
    }
   ],
   "source": [
    "pip install opencv-contrib-python\n"
   ]
  },
  {
   "cell_type": "code",
   "execution_count": 7,
   "id": "8c764e00-bf48-44e4-a027-31d4d3c66761",
   "metadata": {},
   "outputs": [
    {
     "name": "stdout",
     "output_type": "stream",
     "text": [
      "Requirement already satisfied: opencv-contrib-python in c:\\users\\krishna prajapati\\appdata\\roaming\\python\\python313\\site-packages (4.12.0.88)\n",
      "Requirement already satisfied: numpy<2.3.0,>=2 in d:\\programs files\\lib\\site-packages (from opencv-contrib-python) (2.2.6)\n",
      "Note: you may need to restart the kernel to use updated packages.\n"
     ]
    }
   ],
   "source": [
    "pip install --user --upgrade opencv-contrib-python\n"
   ]
  },
  {
   "cell_type": "code",
   "execution_count": 8,
   "id": "649f7dba-025c-4855-a495-095551c8c0de",
   "metadata": {},
   "outputs": [],
   "source": [
    "import cv2\n",
    "import os\n",
    "\n",
    "def create_user(face_id, name):\n",
    "    web = cv2.VideoCapture(0)\n",
    "    web.set(3, 640)\n",
    "    web.set(4, 480)\n",
    "\n",
    "    faces = cv2.CascadeClassifier(cv2.data.haarcascades + 'haarcascade_frontalface_default.xml')\n",
    "\n",
    "    f_dir = 'dataset'\n",
    "    path = os.path.join(f_dir, name)\n",
    "    if not os.path.isdir(path):\n",
    "        os.makedirs(path)\n",
    "\n",
    "    counter = 0\n",
    "    while True:\n",
    "        ret, img = web.read()\n",
    "        if not ret:\n",
    "            break\n",
    "\n",
    "        img = cv2.flip(img, 1)\n",
    "        gray = cv2.cvtColor(img, cv2.COLOR_BGR2GRAY)\n",
    "        multi_face = faces.detectMultiScale(gray, 1.3, 5)\n",
    "\n",
    "        for (x, y, w, h) in multi_face:\n",
    "            cv2.rectangle(img, (x, y), (x + w, y + h), (255, 0, 0), 2)\n",
    "            counter += 1\n",
    "\n",
    "            face_img = gray[y:y+h, x:x+w]\n",
    "            filename = f\"{name}_{face_id}_{counter}.jpg\"\n",
    "            cv2.imwrite(os.path.join(path, filename), face_img)\n",
    "\n",
    "            cv2.imshow(\"Image\", img)\n",
    "\n",
    "        k = cv2.waitKey(100) & 0xff\n",
    "        if k == 27 or counter >= 40:\n",
    "            break\n",
    "\n",
    "    web.release()\n",
    "    cv2.destroyAllWindows()\n"
   ]
  },
  {
   "cell_type": "code",
   "execution_count": 9,
   "id": "56859175-b56b-49c9-8d0f-c727275ad29a",
   "metadata": {},
   "outputs": [],
   "source": [
    "create_user(1,\"Gauri\")"
   ]
  },
  {
   "cell_type": "code",
   "execution_count": 10,
   "id": "d7c5e23d-fd4f-4fec-b245-35e56eed29d7",
   "metadata": {},
   "outputs": [],
   "source": [
    "create_user(2,\"Vasu\")"
   ]
  },
  {
   "cell_type": "code",
   "execution_count": 11,
   "id": "bc417f87-c0a4-4cc3-b6ef-fd5bc220a5c4",
   "metadata": {},
   "outputs": [],
   "source": [
    "\n",
    "def train():\n",
    "    database = 'dataset'\n",
    "    img_dir=[x[0] for x in os.walk(database)][1::]\n",
    "\n",
    "    recognizer = cv2.face.LBPHFaceRecognizer_create()\n",
    "    detector = cv2.CascadeClassifier(cv2.data.haarcascades + 'haarcascade_frontalface_default.xml')\n",
    "\n",
    "    faceSamples = []\n",
    "    ids = []\n",
    "\n",
    "    img_dirs = [os.path.join(database, folder) for folder in os.listdir(database)]\n",
    "\n",
    "    for path in img_dirs:\n",
    "        imagePaths = [os.path.join(path, f) for f in os.listdir(path)]\n",
    "\n",
    "        for imagePath in imagePaths:\n",
    "            PIL_img = Image.open(imagePath).convert('L')  # Convert to grayscale\n",
    "            img_numpy = np.array(PIL_img, 'uint8')\n",
    "\n",
    "            try:\n",
    "                # Extract ID from filename: name_id_counter.jpg\n",
    "                filename = os.path.basename(imagePath)\n",
    "                id = int(filename.split('_')[1])\n",
    "            except:\n",
    "                print(f\"[WARN] Skipping file due to bad format: {filename}\")\n",
    "                continue\n",
    "\n",
    "            faces = detector.detectMultiScale(img_numpy)\n",
    "\n",
    "            for (x, y, w, h) in faces:\n",
    "                faceSamples.append(img_numpy[y:y+h, x:x+w])\n",
    "                ids.append(id)\n",
    "\n",
    "    if len(faceSamples) == 0:\n",
    "        print(\"[ERROR] No faces found to train!\")\n",
    "        return 0\n",
    "\n",
    "    recognizer.train(faceSamples, np.array(ids))\n",
    "    recognizer.write('trainer.yml')\n",
    "\n",
    "    print(f'\\n[INFO] {len(np.unique(ids))} unique face(s) trained. Exiting program.')\n",
    "    return len(np.unique(ids))"
   ]
  },
  {
   "cell_type": "code",
   "execution_count": 12,
   "id": "86575138-c586-4db1-a6e4-5f696e3e9a39",
   "metadata": {},
   "outputs": [
    {
     "name": "stdout",
     "output_type": "stream",
     "text": [
      "\n",
      "[INFO] 2 unique face(s) trained. Exiting program.\n"
     ]
    },
    {
     "data": {
      "text/plain": [
       "2"
      ]
     },
     "execution_count": 12,
     "metadata": {},
     "output_type": "execute_result"
    }
   ],
   "source": [
    "train()"
   ]
  },
  {
   "cell_type": "code",
   "execution_count": 13,
   "id": "764e201e-c96f-44d0-9255-5cc4569fc482",
   "metadata": {},
   "outputs": [],
   "source": [
    "import cv2\n",
    "\n",
    "def recognizer(names):\n",
    "    recognizer = cv2.face.LBPHFaceRecognizer_create()\n",
    "    recognizer.read('trainer.yml')\n",
    "\n",
    "    faceCascade = cv2.CascadeClassifier(cv2.data.haarcascades + 'haarcascade_frontalface_default.xml')\n",
    "\n",
    "    font = cv2.FONT_HERSHEY_SIMPLEX\n",
    "    face_count = 0\n",
    "\n",
    "    cam = cv2.VideoCapture(0)\n",
    "    cam.set(3, 640)\n",
    "    cam.set(4, 480)\n",
    "\n",
    "    minW = 0.1 * cam.get(3)\n",
    "    minH = 0.1 * cam.get(4)\n",
    "\n",
    "    while True:\n",
    "        ret, img = cam.read()\n",
    "        if not ret:\n",
    "            break\n",
    "\n",
    "        img = cv2.flip(img, 1)\n",
    "        gray = cv2.cvtColor(img, cv2.COLOR_BGR2GRAY)\n",
    "\n",
    "        faces = faceCascade.detectMultiScale(\n",
    "            gray,\n",
    "            scaleFactor=1.2,\n",
    "            minNeighbors=5,\n",
    "            minSize=(int(minW), int(minH))\n",
    "        )\n",
    "\n",
    "        for (x, y, w, h) in faces:\n",
    "            cv2.rectangle(img, (x, y), (x + w, y + h), (0, 255, 0), 2)\n",
    "            id_, confidence = recognizer.predict(gray[y:y+h, x:x+w])\n",
    "\n",
    "            if confidence < 100:\n",
    "                name = names.get(id_, \"Unknown\")\n",
    "                confidence_text = f\"  {round(100 - confidence)}%\"\n",
    "            else:\n",
    "                name = \"Unknown\"\n",
    "                confidence_text = f\"  {round(100 - confidence)}%\"\n",
    "\n",
    "            cv2.putText(img, str(name), (x + 5, y - 5), font, 1, (255, 255, 255), 2)\n",
    "            cv2.putText(img, str(confidence_text), (x + 5, y + h + 20), font, 1, (255, 255, 0), 1)\n",
    "\n",
    "        cv2.imshow('Camera', img)\n",
    "\n",
    "        k = cv2.waitKey(10) & 0xff\n",
    "        if k == 27:\n",
    "            break\n",
    "\n",
    "    cam.release()\n",
    "    cv2.destroyAllWindows()\n"
   ]
  },
  {
   "cell_type": "code",
   "execution_count": null,
   "id": "9dc2a719-8683-4f59-bd70-8111af187e01",
   "metadata": {},
   "outputs": [],
   "source": [
    "recognizer({1:\"Gauri\"})"
   ]
  },
  {
   "cell_type": "code",
   "execution_count": null,
   "id": "7c54592b-89ea-464e-bf68-da57b5ec1089",
   "metadata": {},
   "outputs": [],
   "source": [
    "recognizer({2:\"Vasu\"})"
   ]
  },
  {
   "cell_type": "code",
   "execution_count": null,
   "id": "d2781fdf-b872-4890-a0f4-a5da95fdb270",
   "metadata": {},
   "outputs": [],
   "source": []
  },
  {
   "cell_type": "code",
   "execution_count": null,
   "id": "99f49b23-2409-4644-931d-7c70defde06e",
   "metadata": {},
   "outputs": [],
   "source": []
  }
 ],
 "metadata": {
  "kernelspec": {
   "display_name": "Python 3 (ipykernel)",
   "language": "python",
   "name": "python3"
  },
  "language_info": {
   "codemirror_mode": {
    "name": "ipython",
    "version": 3
   },
   "file_extension": ".py",
   "mimetype": "text/x-python",
   "name": "python",
   "nbconvert_exporter": "python",
   "pygments_lexer": "ipython3",
   "version": "3.13.5"
  }
 },
 "nbformat": 4,
 "nbformat_minor": 5
}
